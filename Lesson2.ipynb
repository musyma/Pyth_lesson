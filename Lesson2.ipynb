{
 "cells": [
  {
   "cell_type": "code",
   "execution_count": 22,
   "metadata": {},
   "outputs": [
    {
     "name": "stdout",
     "output_type": "stream",
     "text": [
      "[['visit1', ['Москва', 'Россия']], ['visit3', ['Владимир', 'Россия']], ['visit7', ['Тула', 'Россия']], ['visit8', ['Тула', 'Россия']], ['visit9', ['Курск', 'Россия']], ['visit10', ['Архангельск', 'Россия']]]\n"
     ]
    }
   ],
   "source": [
    "#УРОК2\n",
    "#Задание 1 \n",
    "# Дан список с визитами по городам и странам. Напишите код, который возвращает отфильтрованный список geo_logs,\n",
    "#содержащий только визиты из России. Считайте, что список geo_logs легко помещается в оперативной памяти.\n",
    "geo_logs = [\n",
    "\t['visit1', ['Москва', 'Россия']],\n",
    "\t['visit2', ['Дели', 'Индия']],\n",
    "\t['visit3', ['Владимир', 'Россия']],\n",
    "\t['visit4', ['Лиссабон', 'Португалия']],\n",
    "\t['visit5', ['Париж', 'Франция']],\n",
    "\t['visit6', ['Лиссабон', 'Португалия']],\n",
    "\t['visit7', ['Тула', 'Россия']],\n",
    "\t['visit8', ['Тула', 'Россия']],\n",
    "\t['visit9', ['Курск', 'Россия']],\n",
    "\t['visit10', ['Архангельск', 'Россия']],\n",
    "]\n",
    "geo_logs_filtr=[]\n",
    "for visit in geo_logs:\n",
    "    for place in visit:\n",
    "        if 'Россия' in place:\n",
    "            geo_logs_filtr.append(visit)\n",
    "print(geo_logs_filtr) "
   ]
  },
  {
   "cell_type": "code",
   "execution_count": 5,
   "metadata": {},
   "outputs": [
    {
     "name": "stdout",
     "output_type": "stream",
     "text": [
      "[213, 15, 54, 119, 98, 35]\n"
     ]
    }
   ],
   "source": [
    "#Задание2\n",
    "#Выведите на экран все уникальные гео-ID из списка координат ids. Т. е. список вида [213, 15, 54, 119, 98, 35]\n",
    "ids =[['user1', [213, 213, 213, 15, 213]], ['user2', [54, 54, 119, 119, 119]], ['user3', [213, 98, 98, 35]]]\n",
    "ids_new=[]\n",
    "for i in range(len(ids)):\n",
    "    for x in range(len(ids[i])):\n",
    "        for y in range(len(ids[i][x])):\n",
    "            if ids[i][x][y] not in ids_new and (x!=0):\n",
    "                ids_new.append(ids[i][x][y])\n",
    "print(ids_new)  "
   ]
  },
  {
   "cell_type": "code",
   "execution_count": 7,
   "metadata": {},
   "outputs": [
    {
     "name": "stdout",
     "output_type": "stream",
     "text": [
      "Поисковые запросы из 3 слов составляют 57.1%\n",
      "Поисковые запросы из 2 слов составляют 42.9%\n"
     ]
    }
   ],
   "source": [
    "#Задание3\n",
    "#Список поисковых запросов. Получить распределение количества слов в них.\n",
    "#Т. е. поисковых запросов из одного слова 5%, из двух - 7%, из трех - 3% итд.\n",
    "queries = [\n",
    "\t'смотреть сериалы онлайн',\n",
    "\t'новости спорта',\n",
    "\t'афиша кино',\n",
    "\t'курс доллара',\n",
    "\t'сериалы этим летом',\n",
    "\t'курс по питону',\n",
    "\t'сериалы про спорт',\n",
    "]\n",
    "number=[]\n",
    "k=[]\n",
    "for x in queries:\n",
    "    y=x.count(' ')+1\n",
    "    number.append(y)\n",
    "for z in number:\n",
    "    j=number.count(z)/len(queries)\n",
    "    if [z,j] not in k:\n",
    "        k.append([z,j])\n",
    "        print(f'Поисковые запросы из {z} слов составляют {j:.1%}')"
   ]
  },
  {
   "cell_type": "code",
   "execution_count": 21,
   "metadata": {},
   "outputs": [
    {
     "name": "stdout",
     "output_type": "stream",
     "text": [
      "Среднее количество просмотров на пользователя составляет 23\n"
     ]
    }
   ],
   "source": [
    "#Задание4 (бонусное)\n",
    "#Дан поток логов по количеству просмотренных страниц для каждого пользователя. \n",
    "#Список отсортирован по ID пользователя.\n",
    "#Вам необходимо написать алгоритм, который считает среднее значение просмотров на пользователя.\n",
    "#Т. е. надо посчитать отношение суммы всех просмотров к количеству уникальных пользователей.\n",
    "#Учтите, что весь список stream не помещается в оперативную память, т. е. его нужно обрабатывать поэлементно в цикле.\n",
    "stream = [\n",
    "\t'2018-01-01,user1,3',\n",
    "\t'2018-01-07,user1,4',\n",
    "\t'2018-03-29,user1,1',\n",
    "\t'2018-04-04,user1,13',\n",
    "\t'2018-01-05,user2,7',\n",
    "\t'2018-06-14,user3,4',\n",
    "\t'2018-07-02,user3,10',\n",
    "\t'2018-03-21,user4,19',\n",
    "\t'2018-03-22,user4,4',\n",
    "\t'2018-04-22,user4,8',\n",
    "\t'2018-05-03,user4,9',\n",
    "'2018-05-11,user4,11']\n",
    "pag=[]\n",
    "users=[]\n",
    "p=[]\n",
    "k==0\n",
    "for i in stream:\n",
    "    p.append(i.split(','))\n",
    "for k in range(len(stream)):\n",
    "    pag.append(int(p[k][2]))\n",
    "    if p[k][1] not in users:\n",
    "         users.append(p[k][1])\n",
    "looks=sum(pag)/len(users)\n",
    "print(f'Среднее количество просмотров на пользователя составляет {looks:.0f}')"
   ]
  },
  {
   "cell_type": "code",
   "execution_count": null,
   "metadata": {},
   "outputs": [],
   "source": []
  }
 ],
 "metadata": {
  "kernelspec": {
   "display_name": "Python 3",
   "language": "python",
   "name": "python3"
  },
  "language_info": {
   "codemirror_mode": {
    "name": "ipython",
    "version": 3
   },
   "file_extension": ".py",
   "mimetype": "text/x-python",
   "name": "python",
   "nbconvert_exporter": "python",
   "pygments_lexer": "ipython3",
   "version": "3.7.3"
  }
 },
 "nbformat": 4,
 "nbformat_minor": 2
}
