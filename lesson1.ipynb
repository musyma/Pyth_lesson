{
 "cells": [
  {
   "cell_type": "code",
   "execution_count": 7,
   "metadata": {},
   "outputs": [
    {
     "name": "stdout",
     "output_type": "stream",
     "text": [
      "True\n"
     ]
    }
   ],
   "source": [
    "#задание1\n",
    "long_phrase='Насколько проще было бы писать программы, если бы не заказчики'\n",
    "short_phrase='640Кб должно хватить для любых задач. Билл Гейтс (по легенде)'\n",
    "if len(long_phrase)>len(short_phrase):\n",
    "    print(True)\n",
    "else: print(False)"
   ]
  },
  {
   "cell_type": "code",
   "execution_count": 37,
   "metadata": {},
   "outputs": [
    {
     "name": "stdout",
     "output_type": "stream",
     "text": [
      "Введите число в байтах100000000\n",
      "Объем файла равен  95.37 Mb\n"
     ]
    }
   ],
   "source": [
    "#Задание2\n",
    "a=input('Введите число в байтах')\n",
    "b=round(int(a)/(2**20),2)\n",
    "print('Объем файла равен ',b, 'Mb')"
   ]
  },
  {
   "cell_type": "code",
   "execution_count": 51,
   "metadata": {},
   "outputs": [
    {
     "name": "stdout",
     "output_type": "stream",
     "text": [
      "Введите месяц:Март\n",
      "Введите число:23\n",
      "Овен\n"
     ]
    }
   ],
   "source": [
    "# Задание3\n",
    "month=input('Введите месяц:')\n",
    "date=int(input('Введите число:'))\n",
    "if (month=='декабрь' and 22<=date<=31) or (month=='январь' and 1<=date<=20):\n",
    "    print('Козерог')\n",
    "elif (month=='январь' and 21<=date<=31) or (month=='февраль' and 1<=date<=19):\n",
    "    print('Водолей')\n",
    "elif (month=='февраль' and 20<=date<=29) or (month=='март' and 1<=date<=20):\n",
    "    print('Рыбы')\n",
    "elif (month=='март' and 21<=date<=31) or (month=='апрель' and 1<=date<=20):\n",
    "    print('Овен')\n",
    "elif (month=='апрель' and 21<=date<=30) or (month=='май' and 1<=date<=21):\n",
    "    print('Телец')\n",
    "elif (month=='май' and 22<=date<=31) or (month=='июнь' and 1<=date<=21):\n",
    "    print('Близнецы')\n",
    "elif (month=='июнь' and 22<=date<=30) or (month=='июль' and 1<=date<=23):\n",
    "    print('Рак')\n",
    "elif (month=='июль' and 24<=date<=31) or (month=='август' and 1<=date<=23):\n",
    "    print('Лев')\n",
    "elif (month=='август' and 24<=date<=31) or (month=='сентябрь' and 1<=date<=23):\n",
    "    print('Дева')\n",
    "elif (month=='сентябрь' and 24<=date<=30) or (month=='октябрь' and 1<=date<=23):\n",
    "    print('Весы')\n",
    "elif (month=='октябрь' and 24<=date<=31) or (month=='ноябрь' and 1<=date<=22):\n",
    "    print('Скорпион')\n",
    "elif (month=='ноябрь' and 23<=date<=30) or (month=='декабрь' and 1<=date<=21):\n",
    "    print('Стрелец')   \n",
    "else:\n",
    "    print('Ошибка дыта или месяца ввода')"
   ]
  },
  {
   "cell_type": "code",
   "execution_count": 66,
   "metadata": {},
   "outputs": [
    {
     "name": "stdout",
     "output_type": "stream",
     "text": [
      "Введите заработанную плату в месяц:100000\n",
      "Введите сколько процентов уходит на ипотеку:30\n",
      "Введите сколько процентов уходит на жизнь:50\n",
      "Введите количество премий за год:2\n",
      "На ипотеку было потрачено: 360000.0 рублей\n",
      "Было накоплено: 340000.0 рублей\n"
     ]
    }
   ],
   "source": [
    "#задание4\n",
    "salary=int(input('Введите заработанную плату в месяц:'))\n",
    "ipot=int(input('Введите сколько процентов уходит на ипотеку:'))\n",
    "life=int(input('Введите сколько процентов уходит на жизнь:'))\n",
    "bonus=int(input('Введите количество премий за год:'))\n",
    "ipyear=12*(ipot*salary/100)\n",
    "safe=12*(salary-ipot*salary/100-life*salary/100)+salary*bonus/2\n",
    "print('На ипотеку было потрачено:',ipyear,'рублей')\n",
    "print('Было накоплено:',safe,'рублей')"
   ]
  }
 ],
 "metadata": {
  "kernelspec": {
   "display_name": "Python 3",
   "language": "python",
   "name": "python3"
  },
  "language_info": {
   "codemirror_mode": {
    "name": "ipython",
    "version": 3
   },
   "file_extension": ".py",
   "mimetype": "text/x-python",
   "name": "python",
   "nbconvert_exporter": "python",
   "pygments_lexer": "ipython3",
   "version": "3.7.3"
  }
 },
 "nbformat": 4,
 "nbformat_minor": 2
}
