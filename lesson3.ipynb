{
 "cells": [
  {
   "cell_type": "code",
   "execution_count": 31,
   "metadata": {},
   "outputs": [
    {
     "data": {
      "text/plain": [
       "'yandex'"
      ]
     },
     "execution_count": 31,
     "metadata": {},
     "output_type": "execute_result"
    }
   ],
   "source": [
    "#Задание 1\n",
    "#Дана статистика рекламных каналов по объемам продаж. Напишите скрипт, который возвращает название канала с максимальным объемом.\n",
    "#Т. е. в данном примере скрипт должен возвращать \"yandex\".\n",
    "stats = {\"facebook\": 55, \"yandex\": 120, \"vk\": 115, \"google\": 99, \"email\": 42, \"ok\": 98}\n",
    "#возможно отсортировать по убванию и выделить ключ\n",
    "y=sorted(stats.items(), key=lambda x: -x[1])\n",
    "y[0][0]\n"
   ]
  },
  {
   "cell_type": "code",
   "execution_count": 57,
   "metadata": {},
   "outputs": [
    {
     "name": "stdout",
     "output_type": "stream",
     "text": [
      "Товар ['браслет', 'xiaomi', 'mi', 'band', '2.', 'умный', 'браслет', 'xiaomi', 'mi', 'лидер', 'в', 'линейке', 'xiaomi.', 'фитнес', 'браслет', 'для', 'android', '4.4,', 'ios', '7,', 'экран', 'oled.', 'лучший', 'выбор', 'xiaomi'] разница -5\n",
      "Товар ['браслет', 'huawei', 'honor', 'band', '3.', 'фитнес', 'браслет', 'влагозащищенный', 'сенсорный', 'экран', 'android,', 'ios', 'мониторинг', 'сна'] разница -1\n",
      "Товар ['браслет', 'samsung', 'gear', 'fit2', 'pro.', 'влагозащищенный', 'сенсорный', 'amoled-экран', 'мониторинг', 'сна,', 'калорий,', 'новинка', 'samsung'] разница -1\n"
     ]
    }
   ],
   "source": [
    "#Задание 2\n",
    "#Дан список описаний товаров descriptions:\n",
    "#Есть подозрение, что некоторые описания содержат много дубликатов одних и тех же слов. \n",
    "#Т. е. могут быть переоптимизированными. Для каждого описания товара выведите на экран разницу между количеством \n",
    "#уникальных слов и общим количеством слов в этом описании.\n",
    "descriptions = [\n",
    "    [\"браслет\", \"xiaomi\", \"mi\", \"band\", \"2.\", \"умный\", \"браслет\", \"xiaomi\", \"mi\", \"лидер\", \"в\", \"линейке\", \"xiaomi.\", \"фитнес\", \"браслет\", \"для\", \"android\", \"4.4,\", \"ios\", \"7,\", \"экран\", \"oled.\", \"лучший\", \"выбор\", \"xiaomi\"],\n",
    "    [\"браслет\", \"huawei\", \"honor\", \"band\", \"3.\", \"фитнес\", \"браслет\", \"влагозащищенный\", \"сенсорный\", \"экран\", \"android,\", \"ios\", \"мониторинг\", \"сна\"],\n",
    "    [\"браслет\", \"samsung\", \"gear\", \"fit2\", \"pro.\", \"влагозащищенный\", \"сенсорный\", \"amoled-экран\", \"мониторинг\", \"сна,\", \"калорий,\", \"новинка\", \"samsung\"],\n",
    "]\n",
    "for x in descriptions:\n",
    "    print('Товар', x, 'разница', len(set(x))-len(x))\n",
    "    "
   ]
  },
  {
   "cell_type": "code",
   "execution_count": 132,
   "metadata": {},
   "outputs": [
    {
     "name": "stdout",
     "output_type": "stream",
     "text": [
      "39156\n"
     ]
    }
   ],
   "source": [
    "#Задание 3 вариант 1\n",
    "#В примере поиска с помощью кортежей мы использовали 3 столбца. \n",
    "#Напишите функцию, которая формирует словарь для поиска по n столбцам.\n",
    "line_to_find = ['20', '20552', '3']\n",
    "stats_list = []\n",
    "with open('stats.csv') as f:\n",
    "    for line in f:\n",
    "        line = line.strip().split(',')\n",
    "        stats_list.append(line)\n",
    "for line in stats_list:\n",
    "    if line[:-1] == line_to_find:\n",
    "        print(line[-1])\n",
    "            \n"
   ]
  },
  {
   "cell_type": "code",
   "execution_count": 130,
   "metadata": {},
   "outputs": [
    {
     "name": "stdout",
     "output_type": "stream",
     "text": [
      "39156\n"
     ]
    }
   ],
   "source": [
    "#Задание 3 вариант 2\n",
    "stats_dict = {}\n",
    "with open('stats.csv') as f:\n",
    "    for line in f:\n",
    "        line = line.strip().split(',')\n",
    "        stats_dict[tuple(line[:-1])] = line[-1]\n",
    "line_to_find = ('20', '20552', '3')\n",
    "cost=stats_dict[line_to_find]\n",
    "print(cost)"
   ]
  },
  {
   "cell_type": "code",
   "execution_count": null,
   "metadata": {},
   "outputs": [],
   "source": []
  }
 ],
 "metadata": {
  "kernelspec": {
   "display_name": "Python 3",
   "language": "python",
   "name": "python3"
  },
  "language_info": {
   "codemirror_mode": {
    "name": "ipython",
    "version": 3
   },
   "file_extension": ".py",
   "mimetype": "text/x-python",
   "name": "python",
   "nbconvert_exporter": "python",
   "pygments_lexer": "ipython3",
   "version": "3.7.3"
  }
 },
 "nbformat": 4,
 "nbformat_minor": 2
}
